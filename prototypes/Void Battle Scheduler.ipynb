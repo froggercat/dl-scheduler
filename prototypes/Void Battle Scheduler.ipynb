{
 "cells": [
  {
   "cell_type": "code",
   "execution_count": 79,
   "metadata": {},
   "outputs": [],
   "source": [
    "achievements = [\n",
    "    {\"title\": \"wandering shroom\", \"stam_cost\": 15, \"wing_cost\": 2, \"remaining\": 0},\n",
    "    {\"title\": \"catoblepas anemos\", \"stam_cost\": 20, \"wing_cost\": 2, \"remaining\": 19},\n",
    "    {\"title\": \"eolian phantom\", \"stam_cost\": 25, \"wing_cost\": 2, \"remaining\": 0},\n",
    "    {\"title\": \"proud manticore\", \"stam_cost\": 25, \"wing_cost\": 2, \"remaining\": 3},\n",
    "    {\"title\": \"ebon chimera\", \"stam_cost\": 30, \"wing_cost\": 3, \"remaining\": 1}\n",
    "]"
   ]
  },
  {
   "cell_type": "code",
   "execution_count": 80,
   "metadata": {},
   "outputs": [
    {
     "name": "stdout",
     "output_type": "stream",
     "text": "56 56 34\n"
    }
   ],
   "source": [
    "from datetime import datetime\n",
    "\n",
    "time_remaining = datetime(2020, 2, 27) - datetime.now()\n",
    "hours_remaining, remainder = divmod(time_remaining.seconds, 3600)\n",
    "hours_remaining += time_remaining.days * 24\n",
    "minutes, seconds = divmod(remainder, 60)\n",
    "print(hours_remaining, minutes, seconds)"
   ]
  },
  {
   "cell_type": "code",
   "execution_count": 81,
   "metadata": {},
   "outputs": [
    {
     "data": {
      "text/plain": "802"
     },
     "execution_count": 81,
     "metadata": {},
     "output_type": "execute_result"
    }
   ],
   "source": [
    "current_stam = 120\n",
    "current_wings = 5\n",
    "max_stam = 120\n",
    "\n",
    "# Real regen: 10/h; Honey Tea: 2/h\n",
    "total_remaining_stam = current_stam + 12 * hours_remaining + minutes // 6 + minutes // 30\n",
    "total_remaining_stam"
   ]
  },
  {
   "cell_type": "code",
   "execution_count": 82,
   "metadata": {},
   "outputs": [
    {
     "data": {
      "text/plain": "485"
     },
     "execution_count": 82,
     "metadata": {},
     "output_type": "execute_result"
    }
   ],
   "source": [
    "cost_to_finish = sum([i['remaining'] * i['stam_cost'] for i in achievements])\n",
    "cost_to_finish"
   ]
  },
  {
   "cell_type": "code",
   "execution_count": 83,
   "metadata": {},
   "outputs": [
    {
     "data": {
      "text/plain": "-317"
     },
     "execution_count": 83,
     "metadata": {},
     "output_type": "execute_result"
    }
   ],
   "source": [
    "total_difference = cost_to_finish - total_remaining_stam\n",
    "total_difference"
   ]
  },
  {
   "cell_type": "code",
   "execution_count": 84,
   "metadata": {},
   "outputs": [
    {
     "data": {
      "text/plain": "['wandering shroom',\n 'catoblepas anemos',\n 'eolian phantom',\n 'proud manticore',\n 'ebon chimera']"
     },
     "execution_count": 84,
     "metadata": {},
     "output_type": "execute_result"
    }
   ],
   "source": [
    "[i[\"title\"] for i in achievements]"
   ]
  },
  {
   "cell_type": "code",
   "execution_count": 85,
   "metadata": {},
   "outputs": [
    {
     "data": {
      "text/plain": "{'2020-02-24': {'double_drops': ['ebon chimera'],\n  'remaining_stam': 200,\n  'remaining_wings': 13},\n '2020-02-25': {'double_drops': ['catoblepas anemos', 'proud manticore'],\n  'remaining_stam': 153,\n  'remaining_wings': 24},\n '2020-02-26': {'double_drops': ['eolian phantom', 'ebon chimera'],\n  'remaining_stam': 153,\n  'remaining_wings': 24}}"
     },
     "execution_count": 85,
     "metadata": {},
     "output_type": "execute_result"
    }
   ],
   "source": [
    "f = [i[\"title\"] for i in achievements]\n",
    "double_drops = [\n",
    "    #[0, 1, 2, 3, 4],\n",
    "    # [0, ],\n",
    "    # [1,3,],\n",
    "    # [0,2],\n",
    "    [4],\n",
    "    [1,3],\n",
    "    [2,4],\n",
    "    [0,1,2,3,4]\n",
    "]\n",
    "\n",
    "double_drops = [[f[j] for j in i] for i in double_drops]\n",
    "\n",
    "from datetime import date, timedelta, time\n",
    "from dateutil.rrule import rrule, DAILY\n",
    "\n",
    "a = datetime.now()\n",
    "b = date(2020, 2, 27)\n",
    "\n",
    "double_drops_dict = {}\n",
    "\n",
    "for index, dt in enumerate(rrule(DAILY, dtstart=a, until=b)):\n",
    "    double_drops_dict[dt.strftime(\"%Y-%m-%d\")] = {\n",
    "        \"double_drops\": double_drops[index],\n",
    "        \"remaining_stam\": 12*24 - 15*3 - 20*2 - 25*2,\n",
    "        \"remaining_wings\": 24\n",
    "    }\n",
    "\n",
    "hours_left_today = datetime.combine(date.today() + timedelta(days=1), time.min) - datetime.now()\n",
    "hours_left_today = hours_left_today.seconds // 3600\n",
    "double_drops_dict[datetime.now().strftime(\"%Y-%m-%d\")][\"remaining_stam\"] = current_stam + 10*hours_left_today\n",
    "double_drops_dict[datetime.now().strftime(\"%Y-%m-%d\")][\"remaining_wings\"] = current_wings + hours_left_today \n",
    "double_drops_dict"
   ]
  },
  {
   "cell_type": "code",
   "execution_count": 88,
   "metadata": {},
   "outputs": [
    {
     "data": {
      "text/html": "<h2>Prospective Schedule for 2020-02-24</h2><details><summary>Click to expand</summary>Some text</details>",
      "text/plain": "<IPython.core.display.HTML object>"
     },
     "metadata": {},
     "output_type": "display_data"
    },
    {
     "data": {
      "text/html": "<div>\n<style scoped>\n    .dataframe tbody tr th:only-of-type {\n        vertical-align: middle;\n    }\n\n    .dataframe tbody tr th {\n        vertical-align: top;\n    }\n\n    .dataframe thead th {\n        text-align: right;\n    }\n</style>\n<table border=\"1\" class=\"dataframe\">\n  <thead>\n    <tr style=\"text-align: right;\">\n      <th></th>\n      <th>Type</th>\n      <th>Regened</th>\n      <th>Remaining</th>\n    </tr>\n  </thead>\n  <tbody>\n    <tr>\n      <th>0</th>\n      <td>Stamina</td>\n      <td>200</td>\n      <td>0</td>\n    </tr>\n    <tr>\n      <th>1</th>\n      <td>Wings</td>\n      <td>13</td>\n      <td>0</td>\n    </tr>\n  </tbody>\n</table>\n</div>",
      "text/plain": "      Type  Regened  Remaining\n0  Stamina      200          0\n1    Wings       13          0"
     },
     "metadata": {},
     "output_type": "display_data"
    },
    {
     "data": {
      "text/html": "<h4>Prospective Fights</h4>",
      "text/plain": "<IPython.core.display.HTML object>"
     },
     "metadata": {},
     "output_type": "display_data"
    },
    {
     "data": {
      "text/html": "<div>\n<style scoped>\n    .dataframe tbody tr th:only-of-type {\n        vertical-align: middle;\n    }\n\n    .dataframe tbody tr th {\n        vertical-align: top;\n    }\n\n    .dataframe thead th {\n        text-align: right;\n    }\n</style>\n<table border=\"1\" class=\"dataframe\">\n  <thead>\n    <tr style=\"text-align: right;\">\n      <th></th>\n      <th>title</th>\n      <th>stam_cost</th>\n      <th>wing_cost</th>\n      <th>remaining</th>\n    </tr>\n  </thead>\n  <tbody>\n    <tr>\n      <th>0</th>\n      <td>ebon chimera</td>\n      <td>30</td>\n      <td>3</td>\n      <td>1</td>\n    </tr>\n  </tbody>\n</table>\n</div>",
      "text/plain": "          title  stam_cost  wing_cost  remaining\n0  ebon chimera         30          3          1"
     },
     "metadata": {},
     "output_type": "display_data"
    },
    {
     "data": {
      "text/html": "<h4>Suggested Schedule</h4>",
      "text/plain": "<IPython.core.display.HTML object>"
     },
     "metadata": {},
     "output_type": "display_data"
    },
    {
     "data": {
      "text/html": "<div>\n<style scoped>\n    .dataframe tbody tr th:only-of-type {\n        vertical-align: middle;\n    }\n\n    .dataframe tbody tr th {\n        vertical-align: top;\n    }\n\n    .dataframe thead th {\n        text-align: right;\n    }\n</style>\n<table border=\"1\" class=\"dataframe\">\n  <thead>\n    <tr style=\"text-align: right;\">\n      <th></th>\n      <th>Title</th>\n      <th>Solo Runs</th>\n      <th>Coops</th>\n      <th>Stamina</th>\n      <th>Wings</th>\n    </tr>\n  </thead>\n  <tbody>\n    <tr>\n      <th>0</th>\n      <td>ebon chimera</td>\n      <td>1</td>\n      <td>0</td>\n      <td>30</td>\n      <td>0</td>\n    </tr>\n    <tr>\n      <th>1</th>\n      <td>Dragon Trials</td>\n      <td></td>\n      <td></td>\n      <td></td>\n      <td>11</td>\n    </tr>\n  </tbody>\n</table>\n</div>",
      "text/plain": "           Title Solo Runs Coops Stamina  Wings\n0   ebon chimera         1     0      30      0\n1  Dragon Trials                             11"
     },
     "metadata": {},
     "output_type": "display_data"
    },
    {
     "data": {
      "text/html": "<div>\n<style scoped>\n    .dataframe tbody tr th:only-of-type {\n        vertical-align: middle;\n    }\n\n    .dataframe tbody tr th {\n        vertical-align: top;\n    }\n\n    .dataframe thead th {\n        text-align: right;\n    }\n</style>\n<table border=\"1\" class=\"dataframe\">\n  <thead>\n    <tr style=\"text-align: right;\">\n      <th></th>\n      <th>Remaining</th>\n      <th>Qty</th>\n    </tr>\n  </thead>\n  <tbody>\n    <tr>\n      <th>0</th>\n      <td>Stamina</td>\n      <td>170</td>\n    </tr>\n    <tr>\n      <th>1</th>\n      <td>Wings</td>\n      <td>2</td>\n    </tr>\n  </tbody>\n</table>\n</div>",
      "text/plain": "  Remaining  Qty\n0   Stamina  170\n1     Wings    2"
     },
     "metadata": {},
     "output_type": "display_data"
    },
    {
     "data": {
      "text/html": "</details>",
      "text/plain": "<IPython.core.display.HTML object>"
     },
     "metadata": {},
     "output_type": "display_data"
    },
    {
     "data": {
      "text/html": "<h2>Prospective Schedule for 2020-02-25</h2><details><summary>Click to expand</summary>Some text</details>",
      "text/plain": "<IPython.core.display.HTML object>"
     },
     "metadata": {},
     "output_type": "display_data"
    },
    {
     "data": {
      "text/html": "<div>\n<style scoped>\n    .dataframe tbody tr th:only-of-type {\n        vertical-align: middle;\n    }\n\n    .dataframe tbody tr th {\n        vertical-align: top;\n    }\n\n    .dataframe thead th {\n        text-align: right;\n    }\n</style>\n<table border=\"1\" class=\"dataframe\">\n  <thead>\n    <tr style=\"text-align: right;\">\n      <th></th>\n      <th>Type</th>\n      <th>Regened</th>\n      <th>Remaining</th>\n    </tr>\n  </thead>\n  <tbody>\n    <tr>\n      <th>0</th>\n      <td>Stamina</td>\n      <td>153</td>\n      <td>170</td>\n    </tr>\n    <tr>\n      <th>1</th>\n      <td>Wings</td>\n      <td>24</td>\n      <td>2</td>\n    </tr>\n  </tbody>\n</table>\n</div>",
      "text/plain": "      Type  Regened  Remaining\n0  Stamina      153        170\n1    Wings       24          2"
     },
     "metadata": {},
     "output_type": "display_data"
    },
    {
     "data": {
      "text/html": "<h4>Prospective Fights</h4>",
      "text/plain": "<IPython.core.display.HTML object>"
     },
     "metadata": {},
     "output_type": "display_data"
    },
    {
     "data": {
      "text/html": "<div>\n<style scoped>\n    .dataframe tbody tr th:only-of-type {\n        vertical-align: middle;\n    }\n\n    .dataframe tbody tr th {\n        vertical-align: top;\n    }\n\n    .dataframe thead th {\n        text-align: right;\n    }\n</style>\n<table border=\"1\" class=\"dataframe\">\n  <thead>\n    <tr style=\"text-align: right;\">\n      <th></th>\n      <th>title</th>\n      <th>stam_cost</th>\n      <th>wing_cost</th>\n      <th>remaining</th>\n    </tr>\n  </thead>\n  <tbody>\n    <tr>\n      <th>0</th>\n      <td>catoblepas anemos</td>\n      <td>20</td>\n      <td>2</td>\n      <td>19</td>\n    </tr>\n    <tr>\n      <th>1</th>\n      <td>proud manticore</td>\n      <td>25</td>\n      <td>2</td>\n      <td>3</td>\n    </tr>\n  </tbody>\n</table>\n</div>",
      "text/plain": "               title  stam_cost  wing_cost  remaining\n0  catoblepas anemos         20          2         19\n1    proud manticore         25          2          3"
     },
     "metadata": {},
     "output_type": "display_data"
    },
    {
     "data": {
      "text/html": "<h4>Suggested Schedule</h4>",
      "text/plain": "<IPython.core.display.HTML object>"
     },
     "metadata": {},
     "output_type": "display_data"
    },
    {
     "data": {
      "text/html": "<div>\n<style scoped>\n    .dataframe tbody tr th:only-of-type {\n        vertical-align: middle;\n    }\n\n    .dataframe tbody tr th {\n        vertical-align: top;\n    }\n\n    .dataframe thead th {\n        text-align: right;\n    }\n</style>\n<table border=\"1\" class=\"dataframe\">\n  <thead>\n    <tr style=\"text-align: right;\">\n      <th></th>\n      <th>Title</th>\n      <th>Solo Runs</th>\n      <th>Coops</th>\n      <th>Stamina</th>\n      <th>Wings</th>\n    </tr>\n  </thead>\n  <tbody>\n    <tr>\n      <th>0</th>\n      <td>proud manticore</td>\n      <td>3</td>\n      <td>0</td>\n      <td>75</td>\n      <td>0</td>\n    </tr>\n    <tr>\n      <th>1</th>\n      <td>catoblepas anemos</td>\n      <td>12</td>\n      <td>7</td>\n      <td>240</td>\n      <td>14</td>\n    </tr>\n    <tr>\n      <th>2</th>\n      <td>Dragon Trials</td>\n      <td></td>\n      <td></td>\n      <td></td>\n      <td>10</td>\n    </tr>\n  </tbody>\n</table>\n</div>",
      "text/plain": "               Title Solo Runs Coops Stamina  Wings\n0    proud manticore         3     0      75      0\n1  catoblepas anemos        12     7     240     14\n2      Dragon Trials                             10"
     },
     "metadata": {},
     "output_type": "display_data"
    },
    {
     "data": {
      "text/html": "<div>\n<style scoped>\n    .dataframe tbody tr th:only-of-type {\n        vertical-align: middle;\n    }\n\n    .dataframe tbody tr th {\n        vertical-align: top;\n    }\n\n    .dataframe thead th {\n        text-align: right;\n    }\n</style>\n<table border=\"1\" class=\"dataframe\">\n  <thead>\n    <tr style=\"text-align: right;\">\n      <th></th>\n      <th>Remaining</th>\n      <th>Qty</th>\n    </tr>\n  </thead>\n  <tbody>\n    <tr>\n      <th>0</th>\n      <td>Stamina</td>\n      <td>8</td>\n    </tr>\n    <tr>\n      <th>1</th>\n      <td>Wings</td>\n      <td>2</td>\n    </tr>\n  </tbody>\n</table>\n</div>",
      "text/plain": "  Remaining  Qty\n0   Stamina    8\n1     Wings    2"
     },
     "metadata": {},
     "output_type": "display_data"
    },
    {
     "data": {
      "text/html": "</details>",
      "text/plain": "<IPython.core.display.HTML object>"
     },
     "metadata": {},
     "output_type": "display_data"
    },
    {
     "data": {
      "text/html": "<h2>Prospective Schedule for 2020-02-26</h2><details><summary>Click to expand</summary>Some text</details>",
      "text/plain": "<IPython.core.display.HTML object>"
     },
     "metadata": {},
     "output_type": "display_data"
    },
    {
     "data": {
      "text/html": "<div>\n<style scoped>\n    .dataframe tbody tr th:only-of-type {\n        vertical-align: middle;\n    }\n\n    .dataframe tbody tr th {\n        vertical-align: top;\n    }\n\n    .dataframe thead th {\n        text-align: right;\n    }\n</style>\n<table border=\"1\" class=\"dataframe\">\n  <thead>\n    <tr style=\"text-align: right;\">\n      <th></th>\n      <th>Type</th>\n      <th>Regened</th>\n      <th>Remaining</th>\n    </tr>\n  </thead>\n  <tbody>\n    <tr>\n      <th>0</th>\n      <td>Stamina</td>\n      <td>153</td>\n      <td>8</td>\n    </tr>\n    <tr>\n      <th>1</th>\n      <td>Wings</td>\n      <td>24</td>\n      <td>2</td>\n    </tr>\n  </tbody>\n</table>\n</div>",
      "text/plain": "      Type  Regened  Remaining\n0  Stamina      153          8\n1    Wings       24          2"
     },
     "metadata": {},
     "output_type": "display_data"
    },
    {
     "data": {
      "text/html": "<h4>Prospective Fights</h4>",
      "text/plain": "<IPython.core.display.HTML object>"
     },
     "metadata": {},
     "output_type": "display_data"
    },
    {
     "data": {
      "text/html": "<div>\n<style scoped>\n    .dataframe tbody tr th:only-of-type {\n        vertical-align: middle;\n    }\n\n    .dataframe tbody tr th {\n        vertical-align: top;\n    }\n\n    .dataframe thead th {\n        text-align: right;\n    }\n</style>\n<table border=\"1\" class=\"dataframe\">\n  <thead>\n    <tr style=\"text-align: right;\">\n      <th></th>\n    </tr>\n  </thead>\n  <tbody>\n  </tbody>\n</table>\n</div>",
      "text/plain": "Empty DataFrame\nColumns: []\nIndex: []"
     },
     "metadata": {},
     "output_type": "display_data"
    },
    {
     "data": {
      "text/html": "<h4>Suggested Schedule</h4>",
      "text/plain": "<IPython.core.display.HTML object>"
     },
     "metadata": {},
     "output_type": "display_data"
    },
    {
     "data": {
      "text/html": "<div>\n<style scoped>\n    .dataframe tbody tr th:only-of-type {\n        vertical-align: middle;\n    }\n\n    .dataframe tbody tr th {\n        vertical-align: top;\n    }\n\n    .dataframe thead th {\n        text-align: right;\n    }\n</style>\n<table border=\"1\" class=\"dataframe\">\n  <thead>\n    <tr style=\"text-align: right;\">\n      <th></th>\n      <th>Title</th>\n      <th>Solo Runs</th>\n      <th>Coops</th>\n      <th>Stamina</th>\n      <th>Wings</th>\n    </tr>\n  </thead>\n  <tbody>\n    <tr>\n      <th>0</th>\n      <td>Dragon Trials</td>\n      <td></td>\n      <td></td>\n      <td></td>\n      <td>24</td>\n    </tr>\n    <tr>\n      <th>1</th>\n      <td>Solo Stuff</td>\n      <td></td>\n      <td></td>\n      <td>161</td>\n      <td></td>\n    </tr>\n  </tbody>\n</table>\n</div>",
      "text/plain": "           Title Solo Runs Coops Stamina Wings\n0  Dragon Trials                            24\n1     Solo Stuff                     161      "
     },
     "metadata": {},
     "output_type": "display_data"
    },
    {
     "data": {
      "text/html": "<div>\n<style scoped>\n    .dataframe tbody tr th:only-of-type {\n        vertical-align: middle;\n    }\n\n    .dataframe tbody tr th {\n        vertical-align: top;\n    }\n\n    .dataframe thead th {\n        text-align: right;\n    }\n</style>\n<table border=\"1\" class=\"dataframe\">\n  <thead>\n    <tr style=\"text-align: right;\">\n      <th></th>\n      <th>Remaining</th>\n      <th>Qty</th>\n    </tr>\n  </thead>\n  <tbody>\n    <tr>\n      <th>0</th>\n      <td>Stamina</td>\n      <td>0</td>\n    </tr>\n    <tr>\n      <th>1</th>\n      <td>Wings</td>\n      <td>2</td>\n    </tr>\n  </tbody>\n</table>\n</div>",
      "text/plain": "  Remaining  Qty\n0   Stamina    0\n1     Wings    2"
     },
     "metadata": {},
     "output_type": "display_data"
    },
    {
     "data": {
      "text/html": "</details>",
      "text/plain": "<IPython.core.display.HTML object>"
     },
     "metadata": {},
     "output_type": "display_data"
    },
    {
     "data": {
      "text/html": "<hr/>",
      "text/plain": "<IPython.core.display.HTML object>"
     },
     "metadata": {},
     "output_type": "display_data"
    },
    {
     "data": {
      "text/html": "<div>\n<style scoped>\n    .dataframe tbody tr th:only-of-type {\n        vertical-align: middle;\n    }\n\n    .dataframe tbody tr th {\n        vertical-align: top;\n    }\n\n    .dataframe thead th {\n        text-align: right;\n    }\n</style>\n<table border=\"1\" class=\"dataframe\">\n  <thead>\n    <tr style=\"text-align: right;\">\n      <th></th>\n    </tr>\n  </thead>\n  <tbody>\n  </tbody>\n</table>\n</div>",
      "text/plain": "Empty DataFrame\nColumns: []\nIndex: []"
     },
     "metadata": {},
     "output_type": "display_data"
    },
    {
     "name": "stdout",
     "output_type": "stream",
     "text": "Remaining fights: []\nRequired Stamina: 0 = 0.0 big honeys.\n"
    }
   ],
   "source": [
    "import copy\n",
    "from IPython.display import display, HTML\n",
    "from pandas import DataFrame\n",
    "\n",
    "track_achieves = copy.deepcopy(achievements)\n",
    "remaining_stamina = 0\n",
    "remaining_wings = 0\n",
    "for i in double_drops_dict.keys():\n",
    "    display(HTML(f\"<h2>Prospective Schedule for {i}</h2><details><summary>Click to expand</summary>Some text</details>\"))\n",
    "    todays_stam = double_drops_dict[i][\"remaining_stam\"]\n",
    "    todays_wings = double_drops_dict[i][\"remaining_wings\"]\n",
    "    outputs = []\n",
    "    display(DataFrame([\n",
    "        {\"Type\": \"Stamina\", \"Regened\": todays_stam, \"Remaining\": remaining_stamina},\n",
    "        {\"Type\": \"Wings\", \"Regened\": todays_wings, \"Remaining\": remaining_wings}]))\n",
    "    todays_stam += remaining_stamina\n",
    "    todays_wings += remaining_wings\n",
    "    todays_double_drops = double_drops_dict[i][\"double_drops\"]\n",
    "    prospective_fights = [i for i in track_achieves if i[\"remaining\"] > 0 and i[\"title\"] in todays_double_drops]\n",
    "    display(HTML(\"<h4>Prospective Fights</h4>\"))\n",
    "    display(DataFrame(prospective_fights))\n",
    "    display(HTML(\"<h4>Suggested Schedule</h4>\"))\n",
    "    stam_costs = [i[\"stam_cost\"] for i in prospective_fights]\n",
    "    stam_costs.sort(reverse=True)\n",
    "    fights_to_run = []\n",
    "    while stam_costs and any([True for i in track_achieves if i[\"title\"] in todays_double_drops and i[\"remaining\"] > 0]) and todays_stam > min(stam_costs):\n",
    "        for stam in stam_costs:\n",
    "            wing_cost = 3 if stam == 30 else 2\n",
    "            if stam > todays_stam:\n",
    "                if wing_cost > todays_wings:\n",
    "                    continue\n",
    "            for fight in track_achieves:\n",
    "                if fight[\"stam_cost\"] != stam or fight[\"remaining\"] <= 0 or not fight[\"title\"] in todays_double_drops:\n",
    "                    # if fight[\"stam_cost\"] == stam and fight['remaining'] > 0 and not fight[\"title\"] in todays_double_drops:\n",
    "                    #    outputs.append(HTML(f\"<p>Skipping {fight['title']}</p>\"))\n",
    "                    continue\n",
    "                runs = min(todays_stam // stam, fight[\"remaining\"])\n",
    "                fight[\"remaining\"] -= runs\n",
    "                coops = min(todays_wings // wing_cost, fight[\"remaining\"])\n",
    "                fights_to_run.append(\n",
    "                    {\"Title\": fight[\"title\"], \"Solo Runs\": runs, \"Coops\": coops, \"Stamina\": stam*runs, \"Wings\": coops*wing_cost})\n",
    "                fight[\"remaining\"] -= coops\n",
    "                break\n",
    "            todays_stam -= runs*stam\n",
    "            todays_wings -= coops*wing_cost\n",
    "    remaining_stamina = todays_stam if stam_costs else 0\n",
    "    remaining_wings = min(todays_wings, 2)\n",
    "    if todays_wings - remaining_wings > 0:\n",
    "        fights_to_run.append(\n",
    "            {\"Title\": \"Dragon Trials\", \"Solo Runs\": \"\", \"Coops\": \"\", \"Stamina\": \"\", \"Wings\": todays_wings - remaining_wings})\n",
    "    if not stam_costs:\n",
    "        fights_to_run.append({\"Title\": \"Solo Stuff\", \"Solo Runs\": \"\", \"Coops\": \"\", \"Stamina\": todays_stam, \"Wings\": \"\"})\n",
    "    outputs.append(DataFrame(fights_to_run))\n",
    "    outputs.append(DataFrame([{\"Remaining\": \"Stamina\", \"Qty\": remaining_stamina}, {\"Remaining\": \"Wings\", \"Qty\": remaining_wings}]))\n",
    "    for i in outputs:\n",
    "        display(i)\n",
    "    display(HTML(\"</details>\"))\n",
    "\n",
    "display(HTML(\"<hr/>\"))\n",
    "display(DataFrame([i for i in track_achieves if i['remaining'] > 0]))\n",
    "print(\"Remaining fights:\", [i[\"title\"] for i in track_achieves if i[\"remaining\"] > 0])\n",
    "missing_stam = sum([i[\"stam_cost\"] * i[\"remaining\"] for i in track_achieves])\n",
    "print(\"Required Stamina:\", missing_stam, \"=\", missing_stam / 30, \"big honeys.\")"
   ]
  },
  {
   "cell_type": "code",
   "execution_count": null,
   "metadata": {},
   "outputs": [],
   "source": []
  }
 ],
 "metadata": {
  "kernelspec": {
   "display_name": "Python 3",
   "language": "python",
   "name": "python3"
  },
  "language_info": {
   "codemirror_mode": {
    "name": "ipython",
    "version": 3
   },
   "file_extension": ".py",
   "mimetype": "text/x-python",
   "name": "python",
   "nbconvert_exporter": "python",
   "pygments_lexer": "ipython3",
   "version": "3.7.5-final"
  },
  "nbTranslate": {
   "displayLangs": [
    "*"
   ],
   "hotkey": "alt-t",
   "langInMainMenu": true,
   "sourceLang": "en",
   "targetLang": "fr",
   "useGoogleTranslate": true
  },
  "toc": {
   "base_numbering": 1,
   "nav_menu": {},
   "number_sections": true,
   "sideBar": true,
   "skip_h1_title": false,
   "title_cell": "Table of Contents",
   "title_sidebar": "Contents",
   "toc_cell": false,
   "toc_position": {},
   "toc_section_display": true,
   "toc_window_display": false
  },
  "varInspector": {
   "cols": {
    "lenName": 16,
    "lenType": 16,
    "lenVar": 40
   },
   "kernels_config": {
    "python": {
     "delete_cmd_postfix": "",
     "delete_cmd_prefix": "del ",
     "library": "var_list.py",
     "varRefreshCmd": "print(var_dic_list())"
    },
    "r": {
     "delete_cmd_postfix": ") ",
     "delete_cmd_prefix": "rm(",
     "library": "var_list.r",
     "varRefreshCmd": "cat(var_dic_list()) "
    }
   },
   "types_to_exclude": [
    "module",
    "function",
    "builtin_function_or_method",
    "instance",
    "_Feature"
   ],
   "window_display": false
  }
 },
 "nbformat": 4,
 "nbformat_minor": 2
}