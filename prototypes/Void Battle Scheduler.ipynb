{
 "cells": [
  {
   "cell_type": "code",
   "execution_count": 91,
   "metadata": {
    "ExecuteTime": {
     "end_time": "2020-02-20T22:12:18.473795Z",
     "start_time": "2020-02-20T22:12:18.469544Z"
    }
   },
   "outputs": [],
   "source": [
    "achievements = [\n",
    "    {\"title\": \"wandering shroom\", \"stam_cost\": 15, \"wing_cost\": 2, \"remaining\": 20},\n",
    "    {\"title\": \"catoblepas anemos\", \"stam_cost\": 20, \"wing_cost\": 2, \"remaining\": 20},\n",
    "    {\"title\": \"eolian phantom\", \"stam_cost\": 25, \"wing_cost\": 2, \"remaining\": 18},\n",
    "    {\"title\": \"proud manticore\", \"stam_cost\": 25, \"wing_cost\": 2, \"remaining\": 20},\n",
    "    {\"title\": \"ebon chimera\", \"stam_cost\": 30, \"wing_cost\": 3, \"remaining\": 8}\n",
    "]"
   ]
  },
  {
   "cell_type": "code",
   "execution_count": 92,
   "metadata": {
    "ExecuteTime": {
     "end_time": "2020-02-20T22:12:18.491170Z",
     "start_time": "2020-02-20T22:12:18.486317Z"
    }
   },
   "outputs": [
    {
     "name": "stdout",
     "output_type": "stream",
     "text": [
      "150 47 41\n"
     ]
    }
   ],
   "source": [
    "from datetime import datetime\n",
    "\n",
    "time_remaining = datetime(2020, 2, 27) - datetime.now()\n",
    "hours_remaining, remainder = divmod(time_remaining.seconds, 3600)\n",
    "hours_remaining += time_remaining.days * 24\n",
    "minutes, seconds = divmod(remainder, 60)\n",
    "print(hours_remaining, minutes, seconds)"
   ]
  },
  {
   "cell_type": "code",
   "execution_count": 99,
   "metadata": {
    "ExecuteTime": {
     "end_time": "2020-02-20T22:15:18.795407Z",
     "start_time": "2020-02-20T22:15:18.790172Z"
    }
   },
   "outputs": [
    {
     "data": {
      "text/plain": [
       "1834"
      ]
     },
     "execution_count": 99,
     "metadata": {},
     "output_type": "execute_result"
    }
   ],
   "source": [
    "current_stam = 26\n",
    "current_wings = 4\n",
    "max_stam = 119\n",
    "\n",
    "# Real regen: 10/h; Honey Tea: 2/h\n",
    "total_remaining_stam = current_stam + 12 * hours_remaining + minutes // 6 + minutes // 30\n",
    "total_remaining_stam"
   ]
  },
  {
   "cell_type": "code",
   "execution_count": 94,
   "metadata": {
    "ExecuteTime": {
     "end_time": "2020-02-20T22:12:18.517117Z",
     "start_time": "2020-02-20T22:12:18.513127Z"
    }
   },
   "outputs": [
    {
     "data": {
      "text/plain": [
       "1890"
      ]
     },
     "execution_count": 94,
     "metadata": {},
     "output_type": "execute_result"
    }
   ],
   "source": [
    "cost_to_finish = sum([i['remaining'] * i['stam_cost'] for i in achievements])\n",
    "cost_to_finish"
   ]
  },
  {
   "cell_type": "code",
   "execution_count": 95,
   "metadata": {
    "ExecuteTime": {
     "end_time": "2020-02-20T22:12:18.530554Z",
     "start_time": "2020-02-20T22:12:18.526732Z"
    }
   },
   "outputs": [
    {
     "data": {
      "text/plain": [
       "56"
      ]
     },
     "execution_count": 95,
     "metadata": {},
     "output_type": "execute_result"
    }
   ],
   "source": [
    "total_difference = cost_to_finish - total_remaining_stam\n",
    "total_difference"
   ]
  },
  {
   "cell_type": "code",
   "execution_count": 96,
   "metadata": {
    "ExecuteTime": {
     "end_time": "2020-02-20T22:12:18.541861Z",
     "start_time": "2020-02-20T22:12:18.537823Z"
    }
   },
   "outputs": [
    {
     "data": {
      "text/plain": [
       "['wandering shroom',\n",
       " 'catoblepas anemos',\n",
       " 'eolian phantom',\n",
       " 'proud manticore',\n",
       " 'ebon chimera']"
      ]
     },
     "execution_count": 96,
     "metadata": {},
     "output_type": "execute_result"
    }
   ],
   "source": [
    "[i[\"title\"] for i in achievements]"
   ]
  },
  {
   "cell_type": "code",
   "execution_count": 101,
   "metadata": {
    "ExecuteTime": {
     "end_time": "2020-02-20T22:21:24.038339Z",
     "start_time": "2020-02-20T22:21:24.026212Z"
    },
    "run_control": {
     "marked": true
    },
    "scrolled": true
   },
   "outputs": [
    {
     "data": {
      "text/plain": [
       "{'2020-02-20': {'double_drops': ['wandering shroom',\n",
       "   'catoblepas anemos',\n",
       "   'eolian phantom',\n",
       "   'proud manticore',\n",
       "   'ebon chimera'],\n",
       "  'remaining_stam': 86,\n",
       "  'remaining_wings': 10},\n",
       " '2020-02-21': {'double_drops': ['wandering shroom'],\n",
       "  'remaining_stam': 193,\n",
       "  'remaining_wings': 24},\n",
       " '2020-02-22': {'double_drops': ['catoblepas anemos', 'proud manticore'],\n",
       "  'remaining_stam': 193,\n",
       "  'remaining_wings': 24},\n",
       " '2020-02-23': {'double_drops': ['wandering shroom'],\n",
       "  'remaining_stam': 193,\n",
       "  'remaining_wings': 24},\n",
       " '2020-02-24': {'double_drops': ['ebon chimera'],\n",
       "  'remaining_stam': 193,\n",
       "  'remaining_wings': 24},\n",
       " '2020-02-25': {'double_drops': ['catoblepas anemos', 'proud manticore'],\n",
       "  'remaining_stam': 193,\n",
       "  'remaining_wings': 24},\n",
       " '2020-02-26': {'double_drops': ['eolian phantom'],\n",
       "  'remaining_stam': 193,\n",
       "  'remaining_wings': 24}}"
      ]
     },
     "execution_count": 101,
     "metadata": {},
     "output_type": "execute_result"
    }
   ],
   "source": [
    "f = [i[\"title\"] for i in achievements]\n",
    "double_drops = [\n",
    "    [0, 1, 2, 3, 4],\n",
    "    [0, ],\n",
    "    [1,3,],\n",
    "    [0,],\n",
    "    [4],\n",
    "    [1,3],\n",
    "    [2,],\n",
    "    [0,1,2,3,4]\n",
    "]\n",
    "\n",
    "double_drops = [[f[j] for j in i] for i in double_drops]\n",
    "\n",
    "from datetime import date, timedelta, time\n",
    "from dateutil.rrule import rrule, DAILY\n",
    "\n",
    "a = datetime.now()\n",
    "b = date(2020, 2, 27)\n",
    "\n",
    "double_drops_dict = {}\n",
    "\n",
    "for index, dt in enumerate(rrule(DAILY, dtstart=a, until=b)):\n",
    "    double_drops_dict[dt.strftime(\"%Y-%m-%d\")] = {\n",
    "        \"double_drops\": double_drops[index],\n",
    "        \"remaining_stam\": 12*24 - 15*3 - 20*2 - 25*2 + 20*2,\n",
    "        \"remaining_wings\": 24\n",
    "    }\n",
    "\n",
    "hours_left_today = datetime.combine(date.today() + timedelta(days=1), time.min) - datetime.now()\n",
    "hours_left_today = hours_left_today.seconds // 3600\n",
    "double_drops_dict[datetime.now().strftime(\"%Y-%m-%d\")][\"remaining_stam\"] = current_stam + 10*hours_left_today\n",
    "double_drops_dict[datetime.now().strftime(\"%Y-%m-%d\")][\"remaining_wings\"] = current_wings + hours_left_today \n",
    "double_drops_dict"
   ]
  },
  {
   "cell_type": "code",
   "execution_count": 107,
   "metadata": {
    "ExecuteTime": {
     "end_time": "2020-02-20T22:31:35.825347Z",
     "start_time": "2020-02-20T22:31:35.797360Z"
    },
    "code_folding": []
   },
   "outputs": [
    {
     "name": "stdout",
     "output_type": "stream",
     "text": [
      "\n",
      "Prospective Schedule for 2020-02-20\n",
      "\n",
      "Stamina: 86 + 0\n",
      "Wings: 10 + 0\n",
      "Prospective Fights:\n",
      "\t [{'title': 'wandering shroom', 'stam_cost': 15, 'remaining': 20}, {'title': 'catoblepas anemos', 'stam_cost': 20, 'remaining': 20}, {'title': 'eolian phantom', 'stam_cost': 25, 'remaining': 18}, {'title': 'proud manticore', 'stam_cost': 25, 'remaining': 20}, {'title': 'ebon chimera', 'stam_cost': 30, 'remaining': 8}]\n",
      "Run 2 runs of ebon chimera = 60 stam\n",
      "Run 3 coops of ebon chimera = 9 wings\n",
      "Run 1 runs of eolian phantom = 25 stam\n",
      "Run 0 coops of eolian phantom = 0 wings\n",
      "Spend 0 wings on Dragon Trials!\n",
      "Remaining Stamina: 1; Remaining Wings: 1\n",
      "\n",
      "\n",
      "Prospective Schedule for 2020-02-21\n",
      "\n",
      "Stamina: 193 + 1\n",
      "Wings: 24 + 1\n",
      "Prospective Fights:\n",
      "\t [{'title': 'wandering shroom', 'stam_cost': 15, 'remaining': 20}]\n",
      "Run 12 runs of wandering shroom = 180 stam\n",
      "Run 8 coops of wandering shroom = 16 wings\n",
      "Spend 7 wings on Dragon Trials!\n",
      "Remaining Stamina: 14; Remaining Wings: 2\n",
      "\n",
      "\n",
      "Prospective Schedule for 2020-02-22\n",
      "\n",
      "Stamina: 193 + 14\n",
      "Wings: 24 + 2\n",
      "Prospective Fights:\n",
      "\t [{'title': 'catoblepas anemos', 'stam_cost': 20, 'remaining': 20}, {'title': 'proud manticore', 'stam_cost': 25, 'remaining': 20}]\n",
      "\t\tSkipping eolian phantom\n",
      "Run 8 runs of proud manticore = 200 stam\n",
      "Run 12 coops of proud manticore = 24 wings\n",
      "Run 0 runs of catoblepas anemos = 0 stam\n",
      "Run 1 coops of catoblepas anemos = 2 wings\n",
      "Spend 0 wings on Dragon Trials!\n",
      "Remaining Stamina: 7; Remaining Wings: 0\n",
      "\n",
      "\n",
      "Prospective Schedule for 2020-02-23\n",
      "\n",
      "Stamina: 193 + 7\n",
      "Wings: 24 + 0\n",
      "Prospective Fights:\n",
      "\t []\n",
      "Spend 22 wings on Dragon Trials!\n",
      "Spend 200 on whatever extra stuff you want! But maybe don't spend honey, I included using the daily free honey.\n",
      "Remaining Stamina: 0; Remaining Wings: 2\n",
      "\n",
      "\n",
      "Prospective Schedule for 2020-02-24\n",
      "\n",
      "Stamina: 193 + 0\n",
      "Wings: 24 + 2\n",
      "Prospective Fights:\n",
      "\t [{'title': 'ebon chimera', 'stam_cost': 30, 'remaining': 3}]\n",
      "Run 3 runs of ebon chimera = 90 stam\n",
      "Run 0 coops of ebon chimera = 0 wings\n",
      "Spend 24 wings on Dragon Trials!\n",
      "Remaining Stamina: 13; Remaining Wings: 2\n",
      "\n",
      "\n",
      "Prospective Schedule for 2020-02-25\n",
      "\n",
      "Stamina: 193 + 13\n",
      "Wings: 24 + 2\n",
      "Prospective Fights:\n",
      "\t [{'title': 'catoblepas anemos', 'stam_cost': 20, 'remaining': 19}]\n",
      "Run 10 runs of catoblepas anemos = 200 stam\n",
      "Run 9 coops of catoblepas anemos = 18 wings\n",
      "Spend 6 wings on Dragon Trials!\n",
      "Remaining Stamina: 6; Remaining Wings: 2\n",
      "\n",
      "\n",
      "Prospective Schedule for 2020-02-26\n",
      "\n",
      "Stamina: 193 + 6\n",
      "Wings: 24 + 2\n",
      "Prospective Fights:\n",
      "\t [{'title': 'eolian phantom', 'stam_cost': 25, 'remaining': 17}]\n",
      "Run 7 runs of eolian phantom = 175 stam\n",
      "Run 10 coops of eolian phantom = 20 wings\n",
      "Spend 4 wings on Dragon Trials!\n",
      "Remaining Stamina: 24; Remaining Wings: 2\n",
      "\n",
      "[]\n",
      "\n",
      "Remaining fights: []\n",
      "Required Stamina: 0 = 0.0 big honeys.\n"
     ]
    }
   ],
   "source": [
    "import copy\n",
    "track_achieves = copy.deepcopy(achievements)\n",
    "remaining_stamina = 0\n",
    "remaining_wings = 0\n",
    "for i in double_drops_dict.keys():\n",
    "    print()\n",
    "    print(\"Prospective Schedule for\", i)\n",
    "    print()\n",
    "    todays_stam = double_drops_dict[i][\"remaining_stam\"]\n",
    "    todays_wings = double_drops_dict[i][\"remaining_wings\"]\n",
    "    print(\"Stamina:\", todays_stam, \"+\", remaining_stamina)\n",
    "    print(\"Wings:\", todays_wings, \"+\", remaining_wings)\n",
    "    todays_stam += remaining_stamina\n",
    "    todays_wings += remaining_wings\n",
    "    todays_double_drops = double_drops_dict[i][\"double_drops\"]\n",
    "    prospective_fights = [i for i in track_achieves if i[\"remaining\"] > 0 and i[\"title\"] in todays_double_drops]\n",
    "    print(\"Prospective Fights:\\n\\t\", prospective_fights)\n",
    "    stam_costs = [i[\"stam_cost\"] for i in prospective_fights]\n",
    "    stam_costs.sort(reverse=True)\n",
    "    while stam_costs and todays_stam > min(stam_costs):\n",
    "        for i in stam_costs:\n",
    "            wing_cost = 3 if i == 30 else 2\n",
    "            if i > todays_stam:\n",
    "                if wing_cost > todays_wings:\n",
    "                    continue\n",
    "            for fight in track_achieves:\n",
    "                if fight[\"stam_cost\"] != i or fight[\"remaining\"] <= 0 or not fight[\"title\"] in todays_double_drops:\n",
    "                    if fight[\"stam_cost\"] == i and fight['remaining'] > 0 and not fight[\"title\"] in todays_double_drops:\n",
    "                        print(f\"\\t\\tSkipping {fight['title']}\")\n",
    "                    continue\n",
    "                runs = min(todays_stam // i, fight[\"remaining\"])\n",
    "                print(f\"Run {runs} runs of {fight['title']} = {i*runs} stam\")\n",
    "                fight[\"remaining\"] -= runs\n",
    "                coops = min(todays_wings // wing_cost, fight[\"remaining\"])\n",
    "                print(f\"Run {coops} coops of {fight['title']} = {wing_cost*coops} wings\")\n",
    "                fight[\"remaining\"] -= coops\n",
    "                break\n",
    "            todays_stam = todays_stam - runs*i\n",
    "            todays_wings = todays_wings - coops*wing_cost\n",
    "    remaining_stamina = todays_stam if stam_costs else 0\n",
    "    remaining_wings = min(todays_wings, 2)\n",
    "    print(f\"Spend {todays_wings - remaining_wings} wings on Dragon Trials!\")\n",
    "    if not stam_costs:\n",
    "        print(f\"Spend {todays_stam} on whatever extra stuff you want! But maybe don't spend honey, I included using the daily free honey.\")\n",
    "    print(f\"Remaining Stamina: {remaining_stamina}; Remaining Wings: {remaining_wings}\")\n",
    "    print()\n",
    "\n",
    "print([i for i in track_achieves if i['remaining'] > 0])\n",
    "print()\n",
    "print(\"Remaining fights:\", [i[\"title\"] for i in track_achieves if i[\"remaining\"] > 0])\n",
    "missing_stam = sum([i[\"stam_cost\"] * i[\"remaining\"] for i in track_achieves])\n",
    "print(\"Required Stamina:\", missing_stam, \"=\", missing_stam / 30, \"big honeys.\")"
   ]
  },
  {
   "cell_type": "code",
   "execution_count": null,
   "metadata": {},
   "outputs": [],
   "source": []
  }
 ],
 "metadata": {
  "kernelspec": {
   "display_name": "Python 3",
   "language": "python",
   "name": "python3"
  },
  "language_info": {
   "codemirror_mode": {
    "name": "ipython",
    "version": 3
   },
   "file_extension": ".py",
   "mimetype": "text/x-python",
   "name": "python",
   "nbconvert_exporter": "python",
   "pygments_lexer": "ipython3",
   "version": "3.7.5"
  },
  "nbTranslate": {
   "displayLangs": [
    "*"
   ],
   "hotkey": "alt-t",
   "langInMainMenu": true,
   "sourceLang": "en",
   "targetLang": "fr",
   "useGoogleTranslate": true
  },
  "toc": {
   "base_numbering": 1,
   "nav_menu": {},
   "number_sections": true,
   "sideBar": true,
   "skip_h1_title": false,
   "title_cell": "Table of Contents",
   "title_sidebar": "Contents",
   "toc_cell": false,
   "toc_position": {},
   "toc_section_display": true,
   "toc_window_display": false
  },
  "varInspector": {
   "cols": {
    "lenName": 16,
    "lenType": 16,
    "lenVar": 40
   },
   "kernels_config": {
    "python": {
     "delete_cmd_postfix": "",
     "delete_cmd_prefix": "del ",
     "library": "var_list.py",
     "varRefreshCmd": "print(var_dic_list())"
    },
    "r": {
     "delete_cmd_postfix": ") ",
     "delete_cmd_prefix": "rm(",
     "library": "var_list.r",
     "varRefreshCmd": "cat(var_dic_list()) "
    }
   },
   "types_to_exclude": [
    "module",
    "function",
    "builtin_function_or_method",
    "instance",
    "_Feature"
   ],
   "window_display": false
  }
 },
 "nbformat": 4,
 "nbformat_minor": 2
}
